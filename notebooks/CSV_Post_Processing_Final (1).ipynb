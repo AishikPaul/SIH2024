{
  "nbformat": 4,
  "nbformat_minor": 0,
  "metadata": {
    "colab": {
      "provenance": [],
      "collapsed_sections": [
        "k0QkMyeq9Oym",
        "Et8El6RRFLHX",
        "oSZqtKThaR5L",
        "JLLyKqxAb68H",
        "kWvQF28dcQw-",
        "d4NZvU0Xcj9n",
        "2CmlY-7pc66Y",
        "nSivFlG4dCNk",
        "g2DPaZcsc3PO",
        "1Ch1fCRweYtg",
        "q3cPKatufxhE",
        "aB0iD-y2j_5O",
        "8LNO0WymoGCX",
        "lO51_pvWwsJH",
        "tKyDbBqRlPxA"
      ]
    },
    "kernelspec": {
      "name": "python3",
      "display_name": "Python 3"
    },
    "language_info": {
      "name": "python"
    }
  },
  "cells": [
    {
      "cell_type": "markdown",
      "source": [
        "# Input Files"
      ],
      "metadata": {
        "id": "k0QkMyeq9Oym"
      }
    },
    {
      "cell_type": "code",
      "source": [
        "from google.colab import drive\n",
        "drive.mount('/content/drive')"
      ],
      "metadata": {
        "id": "pH92eIh49Vew",
        "outputId": "7a1189b4-e0bf-4f6a-961d-d02a6a6f3294",
        "colab": {
          "base_uri": "https://localhost:8080/"
        }
      },
      "execution_count": null,
      "outputs": [
        {
          "output_type": "stream",
          "name": "stdout",
          "text": [
            "Mounted at /content/drive\n"
          ]
        }
      ]
    },
    {
      "cell_type": "code",
      "source": [
        "attendance_csv_path = '/content/drive/MyDrive/SIH/csv/final_attendance_result.csv'\n",
        "behavior_csv_path = '/content/drive/MyDrive/SIH/csv/behavior_durations.csv'\n",
        "group_csv_path = '/content/drive/MyDrive/SIH/csv/clustered_names.csv'\n",
        "row_csv_path = '/content/drive/MyDrive/SIH/csv/row_names.csv'\n",
        "projector_csv_path = '/content/drive/MyDrive/SIH/csv/projector_report.csv'\n",
        "noise_csv_path = '/content/drive/MyDrive/SIH/csv/noise.csv'"
      ],
      "metadata": {
        "id": "rC4a0o5M9p-L"
      },
      "execution_count": null,
      "outputs": []
    },
    {
      "cell_type": "markdown",
      "source": [
        "# CSV generation"
      ],
      "metadata": {
        "id": "Et8El6RRFLHX"
      }
    },
    {
      "cell_type": "markdown",
      "source": [
        "## behaviour week report generation"
      ],
      "metadata": {
        "id": "oSZqtKThaR5L"
      }
    },
    {
      "cell_type": "code",
      "execution_count": null,
      "metadata": {
        "colab": {
          "base_uri": "https://localhost:8080/"
        },
        "id": "G5snnQocE9fh",
        "outputId": "a82e670b-21a0-45bf-fa5c-f013e5e20c98"
      },
      "outputs": [
        {
          "output_type": "stream",
          "name": "stdout",
          "text": [
            "CSV files generated in week_behavior_reports\n"
          ]
        }
      ],
      "source": [
        "import pandas as pd\n",
        "import random\n",
        "import os\n",
        "\n",
        "# Load the sample CSV file\n",
        "sample_df = pd.read_csv(behavior_csv_path)\n",
        "\n",
        "# Create the 'random_behavior_reports' folder if it doesn't exist\n",
        "output_folder = 'week_behavior_reports'\n",
        "os.makedirs(output_folder, exist_ok=True)\n",
        "\n",
        "# Generate 7 CSV files with random values for numeric columns\n",
        "for i in range(1, 8):\n",
        "    # Create a new DataFrame by copying the original one\n",
        "    new_df = sample_df.copy()\n",
        "\n",
        "    # Iterate through each column (except 'Name') and randomize the values\n",
        "    for col in new_df.columns:\n",
        "        if new_df[col].dtype in ['float64', 'int64']:  # Check if the column is numeric\n",
        "            new_df[col] = new_df[col].apply(lambda x: round(random.uniform(0, 100), 2))  # Random values between 0 and 100\n",
        "\n",
        "    # Save the new DataFrame as a CSV file\n",
        "    new_csv_path = os.path.join(output_folder, f'behavior_report_day_{i}.csv')\n",
        "    new_df.to_csv(new_csv_path, index=False)\n",
        "\n",
        "print(f\"CSV files generated in {output_folder}\")\n"
      ]
    },
    {
      "cell_type": "markdown",
      "source": [
        "## projector"
      ],
      "metadata": {
        "id": "JLLyKqxAb68H"
      }
    },
    {
      "cell_type": "code",
      "source": [
        "import pandas as pd\n",
        "import random\n",
        "import os\n",
        "\n",
        "# Load the sample CSV file\n",
        "sample_df = pd.read_csv(projector_csv_path)\n",
        "\n",
        "# Create the 'random_behavior_reports' folder if it doesn't exist\n",
        "output_folder = 'week_projector_reports'\n",
        "os.makedirs(output_folder, exist_ok=True)\n",
        "\n",
        "# Generate 7 CSV files with random values for numeric columns\n",
        "for i in range(1, 8):\n",
        "    # Create a new DataFrame by copying the original one\n",
        "    new_df = sample_df.copy()\n",
        "\n",
        "    # Iterate through each column (except 'Name') and randomize the values\n",
        "    for col in new_df.columns:\n",
        "        if new_df[col].dtype in ['float64', 'int64']:  # Check if the column is numeric\n",
        "            new_df[col] = new_df[col].apply(lambda x: round(random.uniform(0, 100), 2))  # Random values between 0 and 100\n",
        "\n",
        "    # Save the new DataFrame as a CSV file\n",
        "    new_csv_path = os.path.join(output_folder, f'projector_report_day_{i}.csv')\n",
        "    new_df.to_csv(new_csv_path, index=False)\n",
        "\n",
        "print(f\"CSV files generated in {output_folder}\")\n"
      ],
      "metadata": {
        "colab": {
          "base_uri": "https://localhost:8080/"
        },
        "id": "WyhT_1byF_SZ",
        "outputId": "bf896a49-9e01-4f69-8853-9c29d65be67d"
      },
      "execution_count": null,
      "outputs": [
        {
          "output_type": "stream",
          "name": "stdout",
          "text": [
            "CSV files generated in week_projector_reports\n"
          ]
        }
      ]
    },
    {
      "cell_type": "markdown",
      "source": [
        "## noise"
      ],
      "metadata": {
        "id": "kWvQF28dcQw-"
      }
    },
    {
      "cell_type": "code",
      "source": [
        "import pandas as pd\n",
        "import random\n",
        "import os\n",
        "\n",
        "# Load the sample CSV file\n",
        "sample_df = pd.read_csv(noise_csv_path)\n",
        "\n",
        "# Create the 'random_behavior_reports' folder if it doesn't exist\n",
        "output_folder = 'week_noise_reports'\n",
        "os.makedirs(output_folder, exist_ok=True)\n",
        "\n",
        "# Generate 7 CSV files with random values for numeric columns\n",
        "for i in range(1, 8):\n",
        "    # Create a new DataFrame by copying the original one\n",
        "    new_df = sample_df.copy()\n",
        "\n",
        "    # Iterate through each column (except 'Name') and randomize the values\n",
        "    for col in new_df.columns:\n",
        "        if new_df[col].dtype in ['float64', 'int64']:  # Check if the column is numeric\n",
        "            new_df[col] = new_df[col].apply(lambda x: round(random.uniform(0, 100), 2))  # Random values between 0 and 100\n",
        "\n",
        "    # Save the new DataFrame as a CSV file\n",
        "    new_csv_path = os.path.join(output_folder, f'noise_report_day{i}.csv')\n",
        "    new_df.to_csv(new_csv_path, index=False)\n",
        "\n",
        "print(f\"CSV files generated in {output_folder}\")\n"
      ],
      "metadata": {
        "colab": {
          "base_uri": "https://localhost:8080/"
        },
        "id": "bbaEhXATuQzj",
        "outputId": "c7ccb304-61f4-4653-b245-0233084dd732"
      },
      "execution_count": null,
      "outputs": [
        {
          "output_type": "stream",
          "name": "stdout",
          "text": [
            "CSV files generated in week_noise_reports\n"
          ]
        }
      ]
    },
    {
      "cell_type": "markdown",
      "source": [
        "## attendance"
      ],
      "metadata": {
        "id": "d4NZvU0Xcj9n"
      }
    },
    {
      "cell_type": "code",
      "source": [
        "import pandas as pd\n",
        "import random\n",
        "import os\n",
        "\n",
        "def generate_random_attendance_csv(input_csv_path, output_folder_path, num_files=7):\n",
        "    # Load the input CSV file\n",
        "    df = pd.read_csv(input_csv_path)\n",
        "\n",
        "    # Create the output folder if it doesn't exist\n",
        "    os.makedirs(output_folder_path, exist_ok=True)\n",
        "\n",
        "    # Generate random attendance CSV files\n",
        "    for i in range(1, num_files + 1):\n",
        "        # Make a copy of the original dataframe\n",
        "        df_copy = df.copy()\n",
        "\n",
        "        # Randomly assign \"Present\" or \"Absent\" to the 'Attendance Status' column\n",
        "        df_copy['Final Attendance Status'] = [random.choice(['Present', 'Absent']) for _ in range(len(df_copy))]\n",
        "\n",
        "        # Save the modified dataframe to a new CSV file\n",
        "        output_file_path = os.path.join(output_folder_path, f'attendance_day_{i}.csv')\n",
        "        df_copy.to_csv(output_file_path, index=False)\n",
        "\n",
        "    print(f\"Files have been saved to: {output_folder_path}\")\n",
        "\n",
        "# Example usage\n",
        "output_folder_path = '/content/week_attendance_reports'  # Replace with your desired output folder path\n",
        "\n",
        "# Call the function\n",
        "generate_random_attendance_csv(attendance_csv_path, output_folder_path)\n"
      ],
      "metadata": {
        "colab": {
          "base_uri": "https://localhost:8080/"
        },
        "id": "DOrt3GxbH6ws",
        "outputId": "cd873878-30fa-4627-f424-0c5dd07204da"
      },
      "execution_count": null,
      "outputs": [
        {
          "output_type": "stream",
          "name": "stdout",
          "text": [
            "Files have been saved to: /content/week_attendance_reports\n"
          ]
        }
      ]
    },
    {
      "cell_type": "markdown",
      "source": [
        "## group (cluster)"
      ],
      "metadata": {
        "id": "2CmlY-7pc66Y"
      }
    },
    {
      "cell_type": "code",
      "source": [
        "import pandas as pd\n",
        "import random\n",
        "import os\n",
        "\n",
        "# Function to generate random files with increased randomness\n",
        "def generate_random_files(file_path, num_files=7, output_folder='generated_files'):\n",
        "    # Load the sample file\n",
        "    df = pd.read_csv(file_path)\n",
        "\n",
        "    # Create the folder if it doesn't exist\n",
        "    if not os.path.exists(output_folder):\n",
        "        os.makedirs(output_folder)\n",
        "\n",
        "    # Get all names from the CSV\n",
        "    all_names = []\n",
        "    for name_list in df['names']:\n",
        "        all_names.extend(name_list.split(\", \"))\n",
        "\n",
        "    # Generate random files\n",
        "    for i in range(num_files):\n",
        "        # Random number of groups (between 2 and len(all_names) // 2 for more dynamic range)\n",
        "        num_groups = random.randint(2, max(2, len(all_names) // 2))\n",
        "\n",
        "        # Shuffle the names\n",
        "        random.shuffle(all_names)\n",
        "\n",
        "        # Randomly generate group sizes\n",
        "        group_sizes = [random.randint(1, len(all_names) // num_groups + 1) for _ in range(num_groups)]\n",
        "\n",
        "        # Adjust group sizes to ensure all names are distributed\n",
        "        while sum(group_sizes) > len(all_names):\n",
        "            group_sizes[random.randint(0, num_groups-1)] -= 1\n",
        "\n",
        "        # Split names into randomly sized groups\n",
        "        groups = []\n",
        "        index = 0\n",
        "        for size in group_sizes:\n",
        "            groups.append(all_names[index:index+size])\n",
        "            index += size\n",
        "\n",
        "        # Shuffle the group names (for even more randomness)\n",
        "        group_names = [f\"group{j+1}\" for j in range(num_groups)]\n",
        "        random.shuffle(group_names)\n",
        "\n",
        "        # Create a DataFrame for this random file\n",
        "        random_data = {\n",
        "            \"group\": group_names,\n",
        "            \"names\": [\", \".join(group) for group in groups]\n",
        "        }\n",
        "        random_df = pd.DataFrame(random_data)\n",
        "\n",
        "        # Save the DataFrame to a CSV file\n",
        "        random_file_path = os.path.join(output_folder, f'random_grouped_names_{i+1}.csv')\n",
        "        random_df.to_csv(random_file_path, index=False)\n",
        "\n",
        "    print(f\"Generated {num_files} random files in the folder: {output_folder}\")\n",
        "\n",
        "# Specify your sample file path and output folder\n",
        "output_folder = \"/content/week_grouped_names\"\n",
        "\n",
        "# Generate the random files\n",
        "generate_random_files(group_csv_path, num_files=7, output_folder=output_folder)\n"
      ],
      "metadata": {
        "id": "-jjyLQ-ed745",
        "colab": {
          "base_uri": "https://localhost:8080/"
        },
        "outputId": "61f7459a-b3f1-4b66-fea6-2a2bb9fb9afa"
      },
      "execution_count": null,
      "outputs": [
        {
          "output_type": "stream",
          "name": "stdout",
          "text": [
            "Generated 7 random files in the folder: /content/week_grouped_names\n"
          ]
        }
      ]
    },
    {
      "cell_type": "markdown",
      "source": [
        "## row"
      ],
      "metadata": {
        "id": "nSivFlG4dCNk"
      }
    },
    {
      "cell_type": "code",
      "source": [
        "import pandas as pd\n",
        "import random\n",
        "import os\n",
        "\n",
        "# Function to generate random files with increased randomness, ensuring all names are present\n",
        "def generate_random_files_v2(file_path, num_files=7, output_folder='generated_files_v2'):\n",
        "    # Load the sample file\n",
        "    df = pd.read_csv(file_path)\n",
        "\n",
        "    # Create the folder if it doesn't exist\n",
        "    if not os.path.exists(output_folder):\n",
        "        os.makedirs(output_folder)\n",
        "\n",
        "    # Get all names from the CSV\n",
        "    all_names = []\n",
        "    for name_list in df['names']:\n",
        "        all_names.extend(name_list.split(\", \"))\n",
        "\n",
        "    # Ensure all six names are present in all files\n",
        "    all_names = list(set(all_names))  # Remove any duplicates\n",
        "\n",
        "    # Generate random files\n",
        "    for i in range(num_files):\n",
        "        # Random number of groups (between 2 and 4 for variety)\n",
        "        num_groups = random.randint(2, 4)\n",
        "\n",
        "        # Shuffle the names\n",
        "        random.shuffle(all_names)\n",
        "\n",
        "        # Randomly generate group sizes\n",
        "        group_sizes = [random.randint(1, len(all_names) // num_groups + 1) for _ in range(num_groups)]\n",
        "\n",
        "        # Adjust group sizes to ensure all names are distributed\n",
        "        while sum(group_sizes) > len(all_names):\n",
        "            group_sizes[random.randint(0, num_groups-1)] -= 1\n",
        "\n",
        "        # Split names into randomly sized groups\n",
        "        groups = []\n",
        "        index = 0\n",
        "        for size in group_sizes:\n",
        "            groups.append(all_names[index:index+size])\n",
        "            index += size\n",
        "\n",
        "        # Shuffle the group names (for even more randomness)\n",
        "        group_names = [f\"group{j+1}\" for j in range(num_groups)]\n",
        "        random.shuffle(group_names)\n",
        "\n",
        "        # Create a DataFrame for this random file\n",
        "        random_data = {\n",
        "            \"group\": group_names,\n",
        "            \"names\": [\", \".join(group) for group in groups]\n",
        "        }\n",
        "        random_df = pd.DataFrame(random_data)\n",
        "\n",
        "        # Save the DataFrame to a CSV file\n",
        "        random_file_path = os.path.join(output_folder, f'random_grouped_names_v2_{i+1}.csv')\n",
        "        random_df.to_csv(random_file_path, index=False)\n",
        "\n",
        "    print(f\"Generated {num_files} random files in the folder: {output_folder}\")\n",
        "\n",
        "# Specify your sample file path and output folder\n",
        "output_folder = \"/content/week_row_names\"\n",
        "\n",
        "# Generate the random files\n",
        "generate_random_files_v2(row_csv_path, num_files=7, output_folder=output_folder)\n"
      ],
      "metadata": {
        "colab": {
          "base_uri": "https://localhost:8080/"
        },
        "id": "kv0vJmoTTQxa",
        "outputId": "ad7b655e-bc17-4cd9-d9d7-d898ee9372e9"
      },
      "execution_count": null,
      "outputs": [
        {
          "output_type": "stream",
          "name": "stdout",
          "text": [
            "Generated 7 random files in the folder: /content/week_row_names\n"
          ]
        }
      ]
    },
    {
      "cell_type": "markdown",
      "source": [
        "## del func"
      ],
      "metadata": {
        "id": "g2DPaZcsc3PO"
      }
    },
    {
      "cell_type": "code",
      "source": [
        "# import shutil\n",
        "# import os\n",
        "\n",
        "# def delete_folder(folder_path):\n",
        "#     # Check if the folder exists\n",
        "#     if os.path.exists(folder_path) and os.path.isdir(folder_path):\n",
        "#         # Remove the folder and all its contents\n",
        "#         shutil.rmtree(folder_path)\n",
        "#         print(f\"The folder '{folder_path}' and its contents have been deleted.\")\n",
        "#     else:\n",
        "#         print(f\"The folder '{folder_path}' does not exist.\")\n",
        "\n",
        "# # Usage\n",
        "# folder_to_delete = '/content/weekly_groups_random'\n",
        "# delete_folder(folder_to_delete)\n"
      ],
      "metadata": {
        "id": "Wp_Usjx_dI0N"
      },
      "execution_count": null,
      "outputs": []
    },
    {
      "cell_type": "markdown",
      "source": [
        "# Processing"
      ],
      "metadata": {
        "id": "1Ch1fCRweYtg"
      }
    },
    {
      "cell_type": "markdown",
      "source": [
        "## attendance"
      ],
      "metadata": {
        "id": "q3cPKatufxhE"
      }
    },
    {
      "cell_type": "code",
      "source": [
        "import pandas as pd\n",
        "import os\n",
        "\n",
        "def generate_weekly_report_from_folder(folder_path, output_csv_path):\n",
        "    # Initialize an empty dictionary to store attendance data\n",
        "    weekly_attendance = {}\n",
        "\n",
        "    # Loop through each file in the folder\n",
        "    for file in os.listdir(folder_path):\n",
        "        if file.endswith('.csv'):  # Only process CSV files\n",
        "            file_path = os.path.join(folder_path, file)\n",
        "            df = pd.read_csv(file_path)\n",
        "\n",
        "            # Process each student's attendance\n",
        "            for index, row in df.iterrows():\n",
        "                student = row['Student Name']\n",
        "                status = row['Final Attendance Status']\n",
        "\n",
        "                if student not in weekly_attendance:\n",
        "                    weekly_attendance[student] = {'Present': 0, 'Absent': 0}\n",
        "\n",
        "                if status == 'Present':\n",
        "                    weekly_attendance[student]['Present'] += 1\n",
        "                else:\n",
        "                    weekly_attendance[student]['Absent'] += 1\n",
        "\n",
        "    # Convert the dictionary to a DataFrame\n",
        "    report_df = pd.DataFrame([\n",
        "        {'Student Name': student,\n",
        "         'Present Days': data['Present'],\n",
        "         'Absent Days': data['Absent'],\n",
        "         'Attendance Percentage': (data['Present'] / (data['Present'] + data['Absent'])) * 100}\n",
        "        for student, data in weekly_attendance.items()\n",
        "    ])\n",
        "\n",
        "    # Save the report to a CSV file\n",
        "    report_df.to_csv(output_csv_path, index=False)\n",
        "    print(f\"Weekly report saved to: {output_csv_path}\")"
      ],
      "metadata": {
        "id": "HeuIDRh0ebUH"
      },
      "execution_count": null,
      "outputs": []
    },
    {
      "cell_type": "code",
      "source": [
        "# Modify the function to generate and save an action message for low attendance students\n",
        "def generate_advisory_and_action_report(input_csv_path, output_csv_path, output_txt_path, output_action_txt_path):\n",
        "    # Load the input CSV file\n",
        "    df = pd.read_csv(input_csv_path)\n",
        "\n",
        "    # Classify students into 'Needs Attention', 'Moderate Attendance', and 'Good Attendance'\n",
        "    df['Advisory'] = df['Attendance Percentage'].apply(\n",
        "        lambda x: 'Needs Attention' if x < 50 else ('Good Attendance' if x > 80 else 'Moderate Attendance')\n",
        "    )\n",
        "\n",
        "    # Create lists for each category\n",
        "    needs_attention = df[df['Advisory'] == 'Needs Attention']['Student Name'].tolist()\n",
        "    good_attendance = df[df['Advisory'] == 'Good Attendance']['Student Name'].tolist()\n",
        "    moderate_attendance = df[df['Advisory'] == 'Moderate Attendance']['Student Name'].tolist()\n",
        "\n",
        "    # Create an advisory message for the teacher\n",
        "    advisory_message = \"Teacher Advisory Report\\n\"\n",
        "\n",
        "    if needs_attention:\n",
        "        advisory_message += \"\\nStudents needing attention due to low attendance:\\n\"\n",
        "        advisory_message += \", \".join(needs_attention)\n",
        "    else:\n",
        "        advisory_message += \"\\nNo students are at risk for low attendance.\"\n",
        "\n",
        "    if moderate_attendance:\n",
        "        advisory_message += \"\\n\\nStudents with moderate attendance:\\n\"\n",
        "        advisory_message += \", \".join(moderate_attendance)\n",
        "    else:\n",
        "        advisory_message += \"\\n\\nNo students with moderate attendance.\"\n",
        "\n",
        "    if good_attendance:\n",
        "        advisory_message += \"\\n\\nStudents with excellent attendance:\\n\"\n",
        "        advisory_message += \", \".join(good_attendance)\n",
        "    else:\n",
        "        advisory_message += \"\\n\\nNo students with excellent attendance.\"\n",
        "\n",
        "    # Save the advisory message to a text file\n",
        "    with open(output_txt_path, 'w') as txt_file:\n",
        "        txt_file.write(advisory_message)\n",
        "\n",
        "    # Generate and print an action message for students with low attendance\n",
        "    if needs_attention:\n",
        "        action_message = \"Action Required: Please take necessary steps with the following students due to low attendance:\\n\"\n",
        "        action_message += \", \".join(needs_attention)\n",
        "    else:\n",
        "        action_message = \"No action required: All students have acceptable attendance.\"\n",
        "\n",
        "    # Save the action message to a text file\n",
        "    with open(output_action_txt_path, 'w') as action_txt_file:\n",
        "        action_txt_file.write(action_message)\n",
        "\n",
        "    # Save the updated DataFrame to a CSV file\n",
        "    df.to_csv(output_csv_path, index=False)\n",
        "\n",
        "    return advisory_message, action_message\n"
      ],
      "metadata": {
        "id": "3iyQK3EBiwMm"
      },
      "execution_count": null,
      "outputs": []
    },
    {
      "cell_type": "markdown",
      "source": [
        "## behaviour"
      ],
      "metadata": {
        "id": "aB0iD-y2j_5O"
      }
    },
    {
      "cell_type": "code",
      "source": [
        "import pandas as pd\n",
        "import os\n",
        "\n",
        "def generate_cumulative_behavior_report(folder_path, output_csv_path):\n",
        "    # Initialize an empty DataFrame to store cumulative results\n",
        "    cumulative_df = None\n",
        "\n",
        "    # Loop through each file in the folder\n",
        "    for file in os.listdir(folder_path):\n",
        "        if file.endswith('.csv'):  # Only process CSV files\n",
        "            file_path = os.path.join(folder_path, file)\n",
        "            daily_df = pd.read_csv(file_path)\n",
        "\n",
        "            # If cumulative_df is None, initialize it with the first file's data\n",
        "            if cumulative_df is None:\n",
        "                cumulative_df = daily_df.copy()\n",
        "            else:\n",
        "                # Sum the behavior durations for each student\n",
        "                cumulative_df.iloc[:, 1:] += daily_df.iloc[:, 1:]\n",
        "\n",
        "    # Calculate total duration for each student across all files\n",
        "    cumulative_df['Total Duration'] = cumulative_df.iloc[:, 1:].sum(axis=1)\n",
        "\n",
        "    # Calculate percentage for each behavior\n",
        "    for column in cumulative_df.columns[1:-1]:  # Exclude 'Name' and 'Total Duration'\n",
        "        cumulative_df[f'{column} %'] = (cumulative_df[column] / cumulative_df['Total Duration']) * 100\n",
        "\n",
        "    # Save the cumulative report to a CSV file\n",
        "    cumulative_df.to_csv(output_csv_path, index=False)\n",
        "\n",
        "    return cumulative_df\n"
      ],
      "metadata": {
        "id": "upqvQudWjsRz"
      },
      "execution_count": null,
      "outputs": []
    },
    {
      "cell_type": "code",
      "source": [
        "import pandas as pd\n",
        "\n",
        "def generate_predictive_report_from_cumulative(cumulative_csv_path, output_txt_path):\n",
        "    # Load the cumulative behavior report CSV file\n",
        "    cumulative_df = pd.read_csv(cumulative_csv_path)\n",
        "\n",
        "    # Define good and bad behaviors\n",
        "    good_behaviors = ['reading %', 'looking_forward %', 'hand_raising %', 'writing %']\n",
        "    bad_behaviors = ['using_phone %', 'turn_around %', 'sleeping %']\n",
        "\n",
        "    # Calculate total percentage of good and bad behaviors for each student\n",
        "    cumulative_df['Good Behavior %'] = cumulative_df[good_behaviors].sum(axis=1)\n",
        "    cumulative_df['Bad Behavior %'] = cumulative_df[bad_behaviors].sum(axis=1)\n",
        "\n",
        "    # Generate the predictive report and teacher action suggestions\n",
        "    cumulative_df['Prediction'] = cumulative_df.apply(\n",
        "        lambda row: 'Good Student' if row['Good Behavior %'] > row['Bad Behavior %'] + 20\n",
        "        else ('Needs Attention' if row['Bad Behavior %'] > row['Good Behavior %'] + 20 else 'Moderate Attention'),\n",
        "        axis=1\n",
        "    )\n",
        "\n",
        "    # Generate action recommendations based on the predictions\n",
        "    action_message = \"Teacher Action Report\\n\"\n",
        "\n",
        "    good_students = cumulative_df[cumulative_df['Prediction'] == 'Good Student']['Name'].tolist()\n",
        "    students_needing_attention = cumulative_df[cumulative_df['Prediction'] == 'Needs Attention']['Name'].tolist()\n",
        "    moderate_attention_students = cumulative_df[cumulative_df['Prediction'] == 'Moderate Attention']['Name'].tolist()\n",
        "\n",
        "    if good_students:\n",
        "        action_message += \"\\nGood Students (keep encouraging their behavior):\\n\"\n",
        "        action_message += \", \".join(good_students)\n",
        "    else:\n",
        "        action_message += \"\\nNo students showing consistently good behavior.\"\n",
        "\n",
        "    if students_needing_attention:\n",
        "        action_message += \"\\n\\nStudents Needing Attention (focus on reducing bad behaviors):\\n\"\n",
        "        action_message += \", \".join(students_needing_attention)\n",
        "    else:\n",
        "        action_message += \"\\n\\nNo students needing urgent attention.\"\n",
        "\n",
        "    if moderate_attention_students:\n",
        "        action_message += \"\\n\\nStudents with Moderate Behavior (monitor and guide):\\n\"\n",
        "        action_message += \", \".join(moderate_attention_students)\n",
        "    else:\n",
        "        action_message += \"\\n\\nNo students in the moderate behavior category.\"\n",
        "\n",
        "    # Save the teacher's action message to a text file\n",
        "    with open(output_txt_path, 'w') as txt_file:\n",
        "        txt_file.write(action_message)\n",
        "\n",
        "    return cumulative_df, action_message\n"
      ],
      "metadata": {
        "id": "da6-h5QllJf7"
      },
      "execution_count": null,
      "outputs": []
    },
    {
      "cell_type": "markdown",
      "source": [
        "## projector predictive report"
      ],
      "metadata": {
        "id": "8LNO0WymoGCX"
      }
    },
    {
      "cell_type": "code",
      "source": [
        "import pandas as pd\n",
        "import os\n",
        "\n",
        "def calculate_on_off_durations(folder_path, output_csv_path):\n",
        "    # Initialize total ON and OFF times\n",
        "    total_on_time = 0\n",
        "    total_off_time = 0\n",
        "\n",
        "    # Loop through each file in the folder\n",
        "    for file in os.listdir(folder_path):\n",
        "        if file.endswith('.csv'):  # Only process CSV files\n",
        "            file_path = os.path.join(folder_path, file)\n",
        "            df = pd.read_csv(file_path)\n",
        "\n",
        "            # Sum the ON and OFF durations\n",
        "            total_on_time += df[df['status'] == 'ON']['duration'].sum()\n",
        "            total_off_time += df[df['status'] == 'OFF']['duration'].sum()\n",
        "\n",
        "    # Calculate the total time\n",
        "    total_time = total_on_time + total_off_time\n",
        "\n",
        "    # Calculate ON and OFF percentages\n",
        "    on_percentage = (total_on_time / total_time) * 100 if total_time > 0 else 0\n",
        "    off_percentage = (total_off_time / total_time) * 100 if total_time > 0 else 0\n",
        "\n",
        "    # Create a DataFrame for the final results\n",
        "    result_df = pd.DataFrame({\n",
        "        'Total ON Time': [total_on_time],\n",
        "        'Total OFF Time': [total_off_time],\n",
        "        'ON Percentage': [on_percentage],\n",
        "        'OFF Percentage': [off_percentage]\n",
        "    })\n",
        "\n",
        "    # Save the results to a CSV file\n",
        "    result_df.to_csv(output_csv_path, index=False)\n",
        "\n",
        "    return result_df\n"
      ],
      "metadata": {
        "id": "B0Z3qEPym_m9"
      },
      "execution_count": null,
      "outputs": []
    },
    {
      "cell_type": "code",
      "source": [
        "import pandas as pd\n",
        "\n",
        "def generate_auto_maintenance_report(input_csv_path, output_txt_path):\n",
        "    # Load the ON/OFF report CSV file\n",
        "    report_df = pd.read_csv(input_csv_path)\n",
        "\n",
        "    # Extract the ON percentage and OFF percentage\n",
        "    on_percentage = report_df['ON Percentage'].iloc[0]\n",
        "    off_percentage = report_df['OFF Percentage'].iloc[0]\n",
        "\n",
        "    # Initialize the maintenance report message\n",
        "    maintenance_message = \"Auto Maintenance Report\\n\\n\"\n",
        "\n",
        "    # Define conditions for maintenance based on ON/OFF percentage\n",
        "    if on_percentage >= off_percentage:\n",
        "      if on_percentage > 75:\n",
        "          maintenance_message += f\"ON Percentage is {on_percentage:.2f}%: High usage detected.\\n\"\n",
        "          maintenance_message += \"Recommendation: Immediate maintenance required due to heavy usage.\\n\"\n",
        "      elif 50 <= on_percentage <= 75:\n",
        "          maintenance_message += f\"ON Percentage is {on_percentage:.2f}%: Moderate usage detected.\\n\"\n",
        "          maintenance_message += \"Recommendation: Scheduled maintenance recommended soon.\\n\"\n",
        "      else:\n",
        "          maintenance_message += f\"ON Percentage is {on_percentage:.2f}%: Low usage detected.\\n\"\n",
        "          maintenance_message += \"Recommendation: No immediate maintenance required, regular check-up advised.\\n\"\n",
        "    else:\n",
        "      if off_percentage > 50:\n",
        "          maintenance_message += f\"\\nOFF Percentage is {off_percentage:.2f}%: Device was off for a significant amount of time.\\n\"\n",
        "          maintenance_message += \"Recommendation: Check for potential issues as the device was off for long periods.\\n\"\n",
        "\n",
        "    # Save the maintenance message to a text file\n",
        "    with open(output_txt_path, 'w') as txt_file:\n",
        "        txt_file.write(maintenance_message)\n",
        "\n",
        "    return maintenance_message\n"
      ],
      "metadata": {
        "id": "WNm9-OEFp3GS"
      },
      "execution_count": null,
      "outputs": []
    },
    {
      "cell_type": "markdown",
      "source": [
        "## noise detection report"
      ],
      "metadata": {
        "id": "tkmotWGFsDMN"
      }
    },
    {
      "cell_type": "code",
      "source": [
        "import pandas as pd\n",
        "import os\n",
        "\n",
        "def calculate_voice_noise_durations(folder_path, output_csv_path):\n",
        "    # Initialize total ON and OFF times\n",
        "    total_on_time = 0\n",
        "    total_off_time = 0\n",
        "\n",
        "    # Loop through each file in the folder\n",
        "    for file in os.listdir(folder_path):\n",
        "        if file.endswith('.csv'):  # Only process CSV files\n",
        "            file_path = os.path.join(folder_path, file)\n",
        "            df = pd.read_csv(file_path)\n",
        "\n",
        "            # Sum the ON and OFF durations\n",
        "            total_on_time += df[df['status'] == 'voice']['duration'].sum()\n",
        "            total_off_time += df[df['status'] == 'noise']['duration'].sum()\n",
        "\n",
        "    # Calculate the total time\n",
        "    total_time = total_on_time + total_off_time\n",
        "\n",
        "    # Calculate ON and OFF percentages\n",
        "    on_percentage = (total_on_time / total_time) * 100 if total_time > 0 else 0\n",
        "    off_percentage = (total_off_time / total_time) * 100 if total_time > 0 else 0\n",
        "\n",
        "    # Create a DataFrame for the final results\n",
        "    result_df = pd.DataFrame({\n",
        "        'Total VOICE Time': [total_on_time],\n",
        "        'Total NOISE Time': [total_off_time],\n",
        "        'VOICE Percentage': [on_percentage],\n",
        "        'NOISE Percentage': [off_percentage]\n",
        "    })\n",
        "\n",
        "    # Save the results to a CSV file\n",
        "    result_df.to_csv(output_csv_path, index=False)\n",
        "\n",
        "    return result_df\n"
      ],
      "metadata": {
        "id": "B6w6LFNPr5lD"
      },
      "execution_count": null,
      "outputs": []
    },
    {
      "cell_type": "code",
      "source": [
        "import pandas as pd\n",
        "\n",
        "def generate_voice_noise_predictive_report(input_csv_path, output_txt_path):\n",
        "    # Load the VOICE/NOISE report CSV file\n",
        "    report_df = pd.read_csv(input_csv_path)\n",
        "\n",
        "    # Extract the VOICE and NOISE percentages\n",
        "    voice_percentage = report_df['VOICE Percentage'].iloc[0]\n",
        "    noise_percentage = report_df['NOISE Percentage'].iloc[0]\n",
        "\n",
        "    # Initialize the predictive report message\n",
        "    predictive_message = \"Voice/Noise Predictive Report\\n\\n\"\n",
        "\n",
        "    # Define conditions for actions based on VOICE/NOISE percentage\n",
        "    if voice_percentage > noise_percentage:\n",
        "      if voice_percentage > 75:\n",
        "          predictive_message += f\"VOICE Percentage is {voice_percentage:.2f}%: High voice presence detected.\\n\"\n",
        "          predictive_message += \"Recommendation: Everything is working fine, no significant noise detected.\\n\"\n",
        "      elif 50 <= voice_percentage <= 75:\n",
        "          predictive_message += f\"VOICE Percentage is {voice_percentage:.2f}%: Moderate voice presence detected.\\n\"\n",
        "          predictive_message += \"Recommendation: Some noise detected, check for potential noise issues.\\n\"\n",
        "      else:\n",
        "          predictive_message += f\"VOICE Percentage is {voice_percentage:.2f}%: Low voice presence detected.\\n\"\n",
        "          predictive_message += \"Recommendation: Immediate action needed to reduce noise, noise is dominant.\\n\"\n",
        "\n",
        "    else:\n",
        "      if noise_percentage > 50:\n",
        "          predictive_message += f\"\\nNOISE Percentage is {noise_percentage:.2f}%: High noise presence detected.\\n\"\n",
        "          predictive_message += \"Recommendation: Further investigation required to suppress noise levels.\\n\"\n",
        "\n",
        "    # Save the predictive message to a text file\n",
        "    with open(output_txt_path, 'w') as txt_file:\n",
        "        txt_file.write(predictive_message)\n",
        "\n",
        "    return predictive_message\n"
      ],
      "metadata": {
        "id": "OhkPbsvxvxn8"
      },
      "execution_count": null,
      "outputs": []
    },
    {
      "cell_type": "markdown",
      "source": [
        "## column and cluster predictive report"
      ],
      "metadata": {
        "id": "lO51_pvWwsJH"
      }
    },
    {
      "cell_type": "markdown",
      "source": [
        "### group"
      ],
      "metadata": {
        "id": "vOjBYNX8WNbS"
      }
    },
    {
      "cell_type": "code",
      "source": [
        "import pandas as pd\n",
        "import glob\n",
        "from itertools import combinations\n",
        "from collections import defaultdict\n",
        "import os\n",
        "\n",
        "# Function to analyze the tendency of students sitting together\n",
        "def analyze_student_pairs(folder_path, output_csv=\"student_pair_frequency.csv\", output_txt=\"report_message.txt\"):\n",
        "    # Get all CSV file paths from the folder\n",
        "    file_paths = glob.glob(os.path.join(folder_path, \"*.csv\"))\n",
        "\n",
        "    # Initialize a dictionary to count the occurrences of each pair of students sitting together\n",
        "    pair_counts = defaultdict(int)\n",
        "\n",
        "    # Process each file\n",
        "    for file in file_paths:\n",
        "        df = pd.read_csv(file)\n",
        "\n",
        "        for index, row in df.iterrows():\n",
        "            if isinstance(row['names'], str):  # Ensure 'names' is a string\n",
        "                students = row['names'].split(\", \")\n",
        "\n",
        "                # Get all combinations of student pairs in this group\n",
        "                student_pairs = combinations(students, 2)\n",
        "\n",
        "                # Count how often each pair sits together\n",
        "                for pair in student_pairs:\n",
        "                    pair_counts[tuple(sorted(pair))] += 1\n",
        "\n",
        "    # Convert the pair counts into a DataFrame for easier analysis\n",
        "    pair_counts_df = pd.DataFrame(list(pair_counts.items()), columns=['Pair', 'Frequency']).sort_values(by='Frequency', ascending=False)\n",
        "\n",
        "    # Save the report to a CSV file\n",
        "    pair_counts_df.to_csv(output_csv, index=False)\n",
        "\n",
        "    # Create a message based on the most frequent pairs\n",
        "    top_pairs = pair_counts_df[pair_counts_df['Frequency'] > 1]  # Select pairs that sat together more than once\n",
        "    message = \"Good groups have been detected based on the frequency of students sitting together.\\n\\n\"\n",
        "    message += \"Here are the students who frequently sit together and may work well as a team:\\n\\n\"\n",
        "\n",
        "    for _, row in top_pairs.iterrows():\n",
        "        student_pair = \" and \".join(row['Pair'])\n",
        "        frequency = row['Frequency']\n",
        "        message += f\"Students {student_pair} have sat together {frequency} times.\\n\"\n",
        "\n",
        "    # Save the message to a text file\n",
        "    with open(output_txt, 'w') as f:\n",
        "        f.write(message)\n",
        "\n",
        "    # Print the message to indicate that the report is saved\n",
        "    print(\"Analysis complete! The student pair frequency report has been saved to\", output_csv)\n",
        "    print(\"A detailed message has been saved to\", output_txt)\n"
      ],
      "metadata": {
        "id": "O838sa5uwhcj"
      },
      "execution_count": null,
      "outputs": []
    },
    {
      "cell_type": "markdown",
      "source": [
        "### row"
      ],
      "metadata": {
        "id": "r3oodq3rZ6WJ"
      }
    },
    {
      "cell_type": "code",
      "source": [
        "import pandas as pd\n",
        "import glob\n",
        "import os\n",
        "\n",
        "# Function to analyze the tendency of students sitting in specific rows\n",
        "def analyze_student_row_tendency(folder_path, output_csv=\"student_row_tendency.csv\", output_txt=\"row_tendency_message.txt\"):\n",
        "    # Get all CSV file paths from the folder\n",
        "    file_paths = glob.glob(os.path.join(folder_path, \"*.csv\"))\n",
        "\n",
        "    # Initialize a dictionary to count the occurrences of each student in each row\n",
        "    student_row_counts = {}\n",
        "\n",
        "    # Process each file\n",
        "    for file in file_paths:\n",
        "        df = pd.read_csv(file)\n",
        "\n",
        "        for index, row in df.iterrows():\n",
        "            row_name = row['group']  # Assuming 'group' indicates the row (e.g., row1, row2, etc.)\n",
        "            if isinstance(row['names'], str):  # Ensure 'names' is a string\n",
        "                students = row['names'].split(\", \")\n",
        "\n",
        "                # Count how often each student sits in each row\n",
        "                for student in students:\n",
        "                    if student not in student_row_counts:\n",
        "                        student_row_counts[student] = {}\n",
        "                    if row_name not in student_row_counts[student]:\n",
        "                        student_row_counts[student][row_name] = 0\n",
        "                    student_row_counts[student][row_name] += 1\n",
        "\n",
        "    # Convert the student row counts into a DataFrame for easier analysis\n",
        "    student_row_df = pd.DataFrame.from_dict(student_row_counts, orient='index').fillna(0)\n",
        "\n",
        "    # Save the report to a CSV file\n",
        "    student_row_df.to_csv(output_csv)\n",
        "\n",
        "    # Determine the students who sit most frequently in the first row (assuming \"row1\" is the first row)\n",
        "    if 'row1' in student_row_df.columns:\n",
        "        top_students_first_row = student_row_df['row1'].sort_values(ascending=False).head()  # Get the top students\n",
        "        top_students_list = top_students_first_row.index.tolist()\n",
        "    else:\n",
        "        top_students_list = []\n",
        "\n",
        "    # Create a message summarizing the analysis and highlight \"good students\" sitting in the first row\n",
        "    message = (\n",
        "        \"Row seating tendencies have been detected. The following report provides insights \"\n",
        "        \"into which students have a tendency to sit in specific rows:\\n\\n\"\n",
        "        \"The report can be used to identify seating patterns for classroom or group activities based on student preferences.\\n\\n\"\n",
        "    )\n",
        "\n",
        "    if top_students_list:\n",
        "        message += \"The following students frequently sit in the first row and are considered to have a tendency for good work based on their seating habits:\\n\"\n",
        "        message += \", \".join(top_students_list) + \"\\n\\n\"\n",
        "    else:\n",
        "        message += \"No students have been detected with a strong tendency to sit in the first row.\\n\\n\"\n",
        "\n",
        "    # Save the message to a text file\n",
        "    with open(output_txt, 'w') as f:\n",
        "        f.write(message)\n",
        "\n",
        "    # Print the message to indicate that the report is saved\n",
        "    print(f\"Analysis complete! The student row tendency report has been saved to {output_csv}\")\n",
        "    print(f\"A summary message has been saved to {output_txt}\")"
      ],
      "metadata": {
        "id": "LsaFFp6eWATc"
      },
      "execution_count": null,
      "outputs": []
    },
    {
      "cell_type": "markdown",
      "source": [
        "## behavior + grouping"
      ],
      "metadata": {
        "id": "c0VVgs2AzG87"
      }
    },
    {
      "cell_type": "code",
      "source": [
        "import pandas as pd\n",
        "\n",
        "def generate_groupwise_behavior_report(pair_csv_path, behavior_csv_path, output_txt_path):\n",
        "    # Load the student pair frequency CSV file\n",
        "    pair_df = pd.read_csv(pair_csv_path)\n",
        "\n",
        "    # Load the cumulative behavior report CSV file\n",
        "    behavior_df = pd.read_csv(behavior_csv_path)\n",
        "\n",
        "    # Define good and bad behaviors\n",
        "    good_behaviors = ['reading %', 'looking_forward %', 'hand_raising %', 'writing %']\n",
        "    bad_behaviors = ['using_phone %', 'turn_around %', 'sleeping %']\n",
        "\n",
        "    # Calculate total percentage of good and bad behaviors for each student\n",
        "    behavior_df['Good Behavior %'] = behavior_df[good_behaviors].sum(axis=1)\n",
        "    behavior_df['Bad Behavior %'] = behavior_df[bad_behaviors].sum(axis=1)\n",
        "\n",
        "    # Generate prediction for each student\n",
        "    behavior_df['Prediction'] = behavior_df.apply(\n",
        "        lambda row: 'Good Student' if row['Good Behavior %'] > row['Bad Behavior %'] + 20\n",
        "        else ('Needs Attention' if row['Bad Behavior %'] > row['Good Behavior %'] + 20 else 'Moderate Attention'),\n",
        "        axis=1\n",
        "    )\n",
        "\n",
        "    # Create a dictionary to store behavior of each student for easy lookup\n",
        "    behavior_dict = behavior_df.set_index('Name')['Prediction'].to_dict()\n",
        "\n",
        "    # Generate groupwise report\n",
        "    report = \"Groupwise Behavior Report\\n\"\n",
        "\n",
        "    for _, row in pair_df.iterrows():\n",
        "        pair = eval(row['Pair'])  # Convert string representation of pair to tuple\n",
        "        frequency = row['Frequency']\n",
        "        group_name = f\"Group (Frequency {frequency}):\"\n",
        "\n",
        "        # Collect predictions for each student in the pair\n",
        "        group_report = {student: behavior_dict.get(student, 'Unknown') for student in pair}\n",
        "\n",
        "        # Sort group members by their behavior categories: Good -> Moderate -> Needs Attention\n",
        "        sorted_group = sorted(group_report.items(), key=lambda x: ('Good' not in x[1], 'Moderate' in x[1]))\n",
        "\n",
        "        # Format the report for this group\n",
        "        report += f\"\\n{group_name}\\n\"\n",
        "        for student, behavior in sorted_group:\n",
        "            report += f\"{student}: {behavior}\\n\"\n",
        "\n",
        "        # Analyze group composition and add action message\n",
        "        group_predictions = list(group_report.values())\n",
        "        if all(pred == 'Good Student' for pred in group_predictions):\n",
        "            action_message = \"All students are performing well. They can be assigned to work on a project together.\"\n",
        "\n",
        "        elif all(pred == 'Moderate Attention' for pred in group_predictions):\n",
        "            action_message = \"All students require moderate attention. It is suggested to monitor their engagement and occasionally offer additional guidance.\"\n",
        "\n",
        "        elif all(pred == 'Needs Attention' for pred in group_predictions):\n",
        "            action_message = \"This group requires urgent attention. Consider assigning individual tasks or offering immediate support to prevent classroom disruptions.\"\n",
        "\n",
        "        elif all(pred in ['Moderate Attention', 'Needs Attention'] for pred in group_predictions):\n",
        "            action_message = \"This group consists of students requiring moderate or urgent attention. It is recommended to give them a warning or assign different seats to prevent disruptions and maintain a productive learning environment.\"\n",
        "\n",
        "        elif any(pred == 'Good Student' for pred in group_predictions) and all(pred in ['Good Student', 'Moderate Attention'] for pred in group_predictions):\n",
        "            action_message = \"This group includes both good students and those requiring moderate attention. Assign tasks that challenge the more attentive students while encouraging moderate attention students to stay focused.\"\n",
        "\n",
        "        elif any(pred == 'Good Student' for pred in group_predictions) and all(pred in ['Good Student', 'Needs Attention'] for pred in group_predictions):\n",
        "            action_message = \"This group includes both well-performing students and those needing more attention. Consider pairing them carefully to avoid negative influence, while fostering collaboration.\"\n",
        "\n",
        "        elif any(pred == 'Moderate Attention' for pred in group_predictions) and all(pred in ['Moderate Attention', 'Needs Attention'] for pred in group_predictions):\n",
        "            action_message = \"This group contains students with mixed attentiveness. It is important to monitor their progress closely and intervene if behaviors become disruptive.\"\n",
        "\n",
        "        else:\n",
        "            action_message = \"This is a mixed group. Consider separating students with more disruptive behaviors to reduce negative influence. Those requiring moderate attention may benefit from one-on-one guidance.\"\n",
        "\n",
        "\n",
        "        report += f\"Action: {action_message}\\n\"\n",
        "\n",
        "    # Save the teacher's groupwise behavior report to a text file\n",
        "    with open(output_txt_path, 'w') as txt_file:\n",
        "        txt_file.write(report)\n",
        "\n",
        "    return report"
      ],
      "metadata": {
        "id": "IadPwKAdzGYk"
      },
      "execution_count": null,
      "outputs": []
    },
    {
      "cell_type": "markdown",
      "source": [
        "# All results print"
      ],
      "metadata": {
        "id": "tKyDbBqRlPxA"
      }
    },
    {
      "cell_type": "markdown",
      "source": [
        "**Attendance**"
      ],
      "metadata": {
        "id": "8ZQgHzFq_ZBH"
      }
    },
    {
      "cell_type": "code",
      "source": [
        "# Example usage:\n",
        "folder_path = '/content/week_attendance_reports'  # Replace with the folder path containing the seven CSV files\n",
        "output_csv_path = '/content/weekly_attendance_report.csv'  # Replace with the desired output CSV path\n",
        "\n",
        "# Generate and save the weekly report\n",
        "generate_weekly_report_from_folder(folder_path, output_csv_path)\n",
        "\n",
        "# Example usage:\n",
        "input_csv_path = '/content/weekly_attendance_report.csv'  # Path to the input file\n",
        "output_csv_path = '/content/attendance_advisory_report.csv'  # Path to save the advisory CSV file\n",
        "output_txt_path = '/content/attendance_dvisory_message.txt'  # Path to save the advisory message in a text file\n",
        "output_action_txt_path = '/content/attendance_action_message.txt'  # Path to save the action message in a text file\n",
        "\n",
        "# Generate the advisory and action report, save to files\n",
        "advisory_message, action_message = generate_advisory_and_action_report(input_csv_path, output_csv_path, output_txt_path, output_action_txt_path)\n",
        "\n",
        "# Provide download link for the generated action message file\n",
        "output_action_txt_path\n",
        "print(advisory_message)\n",
        "print(action_message)"
      ],
      "metadata": {
        "id": "gFNd1YdUlSYO",
        "outputId": "b704cef6-ca0a-4700-9657-5898fbf90075",
        "colab": {
          "base_uri": "https://localhost:8080/"
        }
      },
      "execution_count": null,
      "outputs": [
        {
          "output_type": "stream",
          "name": "stdout",
          "text": [
            "Weekly report saved to: /content/weekly_attendance_report.csv\n",
            "Teacher Advisory Report\n",
            "\n",
            "Students needing attention due to low attendance:\n",
            "abhisri, aishik, debajit\n",
            "\n",
            "Students with moderate attendance:\n",
            "ankan, arijit, priyam\n",
            "\n",
            "No students with excellent attendance.\n",
            "Action Required: Please take necessary steps with the following students due to low attendance:\n",
            "abhisri, aishik, debajit\n"
          ]
        }
      ]
    },
    {
      "cell_type": "markdown",
      "source": [
        "**Behavior**"
      ],
      "metadata": {
        "id": "BQYxaZbhAAqo"
      }
    },
    {
      "cell_type": "code",
      "source": [
        "# Example usage:\n",
        "folder_path = '/content/week_behavior_reports'  # Replace this with the folder path containing your seven CSV files\n",
        "output_csv_path = '/content/whole_week_behavior_report.csv'  # Replace with the desired output file path\n",
        "\n",
        "# Generate and save the cumulative behavior report\n",
        "cumulative_report_df = generate_cumulative_behavior_report(folder_path, output_csv_path)\n",
        "\n",
        "output_txt_path = '/content/behavior_action_message.txt'  # Replace with the path to save the teacher action message\n",
        "\n",
        "# Generate the predictive report and teacher action message\n",
        "cumulative_report_df, teacher_action_message = generate_predictive_report_from_cumulative(output_csv_path, output_txt_path)\n",
        "\n",
        "# Display the first few rows of the report and print the action message\n",
        "print(cumulative_report_df.iloc[:, -3:].head())\n",
        "print(teacher_action_message)"
      ],
      "metadata": {
        "id": "2mHzJ1Ac__lp",
        "outputId": "2af6b38c-000c-4d16-b755-746c20765caf",
        "colab": {
          "base_uri": "https://localhost:8080/"
        }
      },
      "execution_count": null,
      "outputs": [
        {
          "output_type": "stream",
          "name": "stdout",
          "text": [
            "   Good Behavior %  Bad Behavior %          Prediction\n",
            "0        62.737247       37.262753        Good Student\n",
            "1        56.337560       43.662440  Moderate Attention\n",
            "2        58.448400       41.551600  Moderate Attention\n",
            "3        63.504090       36.495910        Good Student\n",
            "4        55.853082       44.146918  Moderate Attention\n",
            "Teacher Action Report\n",
            "\n",
            "Good Students (keep encouraging their behavior):\n",
            "priyam, arijit\n",
            "\n",
            "No students needing urgent attention.\n",
            "\n",
            "Students with Moderate Behavior (monitor and guide):\n",
            "abhisri, debajit, ankan\n"
          ]
        }
      ]
    },
    {
      "cell_type": "markdown",
      "source": [
        "**Group**"
      ],
      "metadata": {
        "id": "Yw_yYAygAyg3"
      }
    },
    {
      "cell_type": "code",
      "source": [
        "# Specify your folder path\n",
        "folder_path = \"/content/week_grouped_names/\"  # Example: \"/content/week_row_names/\"\n",
        "\n",
        "# Run the analysis and save the report\n",
        "analyze_student_pairs(folder_path, output_csv=\"student_pair_frequency.csv\", output_txt=\"report_message.txt\")"
      ],
      "metadata": {
        "id": "PfoW0bneAxo4",
        "outputId": "c605692e-ff29-4cd2-a0c3-61849eb4e07b",
        "colab": {
          "base_uri": "https://localhost:8080/"
        }
      },
      "execution_count": null,
      "outputs": [
        {
          "output_type": "stream",
          "name": "stdout",
          "text": [
            "Analysis complete! The student pair frequency report has been saved to student_pair_frequency.csv\n",
            "A detailed message has been saved to report_message.txt\n"
          ]
        }
      ]
    },
    {
      "cell_type": "markdown",
      "source": [
        "**Behavior + Group**"
      ],
      "metadata": {
        "id": "qF6B7riuBfaR"
      }
    },
    {
      "cell_type": "code",
      "source": [
        "# Example usage:\n",
        "pair_csv_path = 'student_pair_frequency.csv'  # Replace with the path to your student pair CSV\n",
        "behavior_csv_path = 'whole_week_behavior_report.csv'  # Replace with the path to your cumulative behavior report CSV\n",
        "output_txt_path = 'groupwise_behavior_report.txt'  # Replace with the path to save the groupwise report\n",
        "\n",
        "# Generate the groupwise behavior report\n",
        "groupwise_report = generate_groupwise_behavior_report(pair_csv_path, behavior_csv_path, output_txt_path)\n",
        "\n",
        "# Display the groupwise report\n",
        "print(groupwise_report)"
      ],
      "metadata": {
        "id": "QmrsnDw2BiGA",
        "outputId": "282fdb36-0e76-4032-f1c8-c38f9e57993b",
        "colab": {
          "base_uri": "https://localhost:8080/"
        }
      },
      "execution_count": null,
      "outputs": [
        {
          "output_type": "stream",
          "name": "stdout",
          "text": [
            "Groupwise Behavior Report\n",
            "\n",
            "Group (Frequency 3):\n",
            "arijit: Good Student\n",
            "abhisri: Moderate Attention\n",
            "Action: This group includes both good students and those requiring moderate attention. Assign tasks that challenge the more attentive students while encouraging moderate attention students to stay focused.\n",
            "\n",
            "Group (Frequency 3):\n",
            "arijit: Good Student\n",
            "debajit: Moderate Attention\n",
            "Action: This group includes both good students and those requiring moderate attention. Assign tasks that challenge the more attentive students while encouraging moderate attention students to stay focused.\n",
            "\n",
            "Group (Frequency 2):\n",
            "priyam: Good Student\n",
            "abhisri: Moderate Attention\n",
            "Action: This group includes both good students and those requiring moderate attention. Assign tasks that challenge the more attentive students while encouraging moderate attention students to stay focused.\n",
            "\n",
            "Group (Frequency 2):\n",
            "abhisri: Moderate Attention\n",
            "ankan: Moderate Attention\n",
            "Action: All students require moderate attention. It is suggested to monitor their engagement and occasionally offer additional guidance.\n",
            "\n",
            "Group (Frequency 2):\n",
            "arijit: Good Student\n",
            "ankan: Moderate Attention\n",
            "Action: This group includes both good students and those requiring moderate attention. Assign tasks that challenge the more attentive students while encouraging moderate attention students to stay focused.\n",
            "\n",
            "Group (Frequency 1):\n",
            "arijit: Good Student\n",
            "priyam: Good Student\n",
            "Action: All students are performing well. They can be assigned to work on a project together.\n",
            "\n",
            "Group (Frequency 1):\n",
            "ankan: Moderate Attention\n",
            "debajit: Moderate Attention\n",
            "Action: All students require moderate attention. It is suggested to monitor their engagement and occasionally offer additional guidance.\n",
            "\n",
            "Group (Frequency 1):\n",
            "priyam: Good Student\n",
            "ankan: Moderate Attention\n",
            "Action: This group includes both good students and those requiring moderate attention. Assign tasks that challenge the more attentive students while encouraging moderate attention students to stay focused.\n",
            "\n",
            "Group (Frequency 1):\n",
            "abhisri: Moderate Attention\n",
            "debajit: Moderate Attention\n",
            "Action: All students require moderate attention. It is suggested to monitor their engagement and occasionally offer additional guidance.\n",
            "\n"
          ]
        }
      ]
    },
    {
      "cell_type": "markdown",
      "source": [
        "**Projector**"
      ],
      "metadata": {
        "id": "RUTEaQT3CFD7"
      }
    },
    {
      "cell_type": "code",
      "source": [
        "# Example usage:\n",
        "folder_path = '/content/week_projector_reports'  # Replace with the folder path containing the CSV files\n",
        "output_csv_path = '/content/projector_weekly_on_off_report.csv'  # Replace with the desired output file path\n",
        "\n",
        "# Generate and save the ON/OFF report\n",
        "on_off_report_df = calculate_on_off_durations(folder_path, output_csv_path)\n",
        "\n",
        "output_txt_path = '/content/projector_maintenance_report.txt'  # Replace with the path to save the maintenance report\n",
        "\n",
        "# Generate the auto maintenance report\n",
        "maintenance_report_message = generate_auto_maintenance_report(output_csv_path, output_txt_path)\n",
        "\n",
        "# Print the maintenance report\n",
        "print(maintenance_report_message)"
      ],
      "metadata": {
        "id": "3I7ivdyhCG8U",
        "outputId": "109fe3c4-f55b-441e-cec5-72937c1f7c90",
        "colab": {
          "base_uri": "https://localhost:8080/"
        }
      },
      "execution_count": null,
      "outputs": [
        {
          "output_type": "stream",
          "name": "stdout",
          "text": [
            "Auto Maintenance Report\n",
            "\n",
            "\n",
            "OFF Percentage is 64.86%: Device was off for a significant amount of time.\n",
            "Recommendation: Check for potential issues as the device was off for long periods.\n",
            "\n"
          ]
        }
      ]
    },
    {
      "cell_type": "markdown",
      "source": [
        "**Noise**"
      ],
      "metadata": {
        "id": "H0cFwPR5CpMH"
      }
    },
    {
      "cell_type": "code",
      "source": [
        "# Example usage:\n",
        "folder_path = '/content/week_noise_reports'  # Replace with the folder path containing the CSV files\n",
        "output_csv_path = '/content/weekly_noise_report.csv'  # Replace with the desired output file path\n",
        "\n",
        "# Generate and save the ON/OFF report\n",
        "on_off_report_df = calculate_voice_noise_durations(folder_path, output_csv_path)\n",
        "\n",
        "output_txt_path = '/content/noise_report.txt'  # Replace with the path to save the maintenance report\n",
        "\n",
        "# Generate the voice/noise predictive report\n",
        "voice_noise_report_message = generate_voice_noise_predictive_report(output_csv_path, output_txt_path)\n",
        "\n",
        "# Print the predictive report\n",
        "print(voice_noise_report_message)"
      ],
      "metadata": {
        "id": "fvmu1psWCqqt",
        "outputId": "83c2e45a-60e9-4b3b-aee1-8622cc8db75b",
        "colab": {
          "base_uri": "https://localhost:8080/"
        }
      },
      "execution_count": null,
      "outputs": [
        {
          "output_type": "stream",
          "name": "stdout",
          "text": [
            "Voice/Noise Predictive Report\n",
            "\n",
            "VOICE Percentage is 55.77%: Moderate voice presence detected.\n",
            "Recommendation: Some noise detected, check for potential noise issues.\n",
            "\n"
          ]
        }
      ]
    },
    {
      "cell_type": "markdown",
      "source": [
        "**Row**"
      ],
      "metadata": {
        "id": "AYkDbT9vBvog"
      }
    },
    {
      "cell_type": "code",
      "source": [
        "# Specify your folder path\n",
        "folder_path = \"/content/week_row_names\"  # Example: \"/content/week_row_names/\"\n",
        "\n",
        "# Run the analysis and save the report\n",
        "analyze_student_row_tendency(folder_path, output_csv=\"student_row_tendency.csv\", output_txt=\"row_tendency_message.txt\")\n",
        "# Read and print the contents of the file\n",
        "with open(\"row_tendency_message.txt\", 'r') as file:\n",
        "    report_message = file.read()\n",
        "\n",
        "print(report_message)"
      ],
      "metadata": {
        "id": "-NaEBU8LBx3f",
        "outputId": "06226fd2-4c4d-47c7-9758-2a3afb371c6d",
        "colab": {
          "base_uri": "https://localhost:8080/"
        }
      },
      "execution_count": null,
      "outputs": [
        {
          "output_type": "stream",
          "name": "stdout",
          "text": [
            "Analysis complete! The student row tendency report has been saved to student_row_tendency.csv\n",
            "A summary message has been saved to row_tendency_message.txt\n",
            "Row seating tendencies have been detected. The following report provides insights into which students have a tendency to sit in specific rows:\n",
            "\n",
            "The report can be used to identify seating patterns for classroom or group activities based on student preferences.\n",
            "\n",
            "No students have been detected with a strong tendency to sit in the first row.\n",
            "\n",
            "\n"
          ]
        }
      ]
    }
  ]
}